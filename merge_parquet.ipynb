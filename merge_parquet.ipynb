{
 "cells": [
  {
   "cell_type": "code",
   "execution_count": 4,
   "id": "96974945-d52c-4613-9975-f0ac0e43de31",
   "metadata": {},
   "outputs": [
    {
     "name": "stdout",
     "output_type": "stream",
     "text": [
      "Merging 37 parts into train_logs.parquet...\n",
      "Created train_logs.parquet\n",
      "Merging 10 parts into test_logs.parquet...\n",
      "Created test_logs.parquet\n"
     ]
    }
   ],
   "source": [
    "import os\n",
    "import pyarrow.parquet as pq\n",
    "import pyarrow as pa\n",
    "\n",
    "def merge_parquet_chunks(folder_name, output_file):\n",
    "    \"\"\"\n",
    "    Merge all parquet chunks inside a folder into one combined Parquet file.\n",
    "    \"\"\"\n",
    "    files = sorted([os.path.join(folder_name, f) for f in os.listdir(folder_name) if f.endswith(\".parquet\")])\n",
    "    print(f\"Merging {len(files)} parts into {output_file}...\")\n",
    "\n",
    "    tables = [pq.read_table(f) for f in files]\n",
    "    combined = pa.concat_tables(tables)\n",
    "    pq.write_table(combined, output_file)\n",
    "    print(f\"Created {output_file}\")\n",
    "\n",
    "# Example: reconstruct\n",
    "merge_parquet_chunks(\"train_logs\", \"train_logs.parquet\")\n",
    "merge_parquet_chunks(\"test_logs\", \"test_logs.parquet\")\n"
   ]
  },
  {
   "cell_type": "code",
   "execution_count": null,
   "id": "f6e6aac3-441b-4b8d-a51d-a29198a986b4",
   "metadata": {},
   "outputs": [],
   "source": []
  }
 ],
 "metadata": {
  "kernelspec": {
   "display_name": "Python 3 (ipykernel)",
   "language": "python",
   "name": "python3"
  },
  "language_info": {
   "codemirror_mode": {
    "name": "ipython",
    "version": 3
   },
   "file_extension": ".py",
   "mimetype": "text/x-python",
   "name": "python",
   "nbconvert_exporter": "python",
   "pygments_lexer": "ipython3",
   "version": "3.9.0"
  }
 },
 "nbformat": 4,
 "nbformat_minor": 5
}
